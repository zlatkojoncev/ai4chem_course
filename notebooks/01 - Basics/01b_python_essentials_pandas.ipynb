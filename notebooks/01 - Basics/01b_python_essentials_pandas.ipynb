{
 "cells": [
  {
   "attachments": {},
   "cell_type": "markdown",
   "metadata": {},
   "source": [
    "<a href=\"https://colab.research.google.com/github/schwallergroup/ai4chem_course/blob/main/notebooks/01 - Basics/01b_python_essentials_pandas.ipynb\" target=\"_parent\"><img src=\"https://colab.research.google.com/assets/colab-badge.svg\" alt=\"Open In Colab\"/></a>"
   ]
  },
  {
   "attachments": {},
   "cell_type": "markdown",
   "metadata": {},
   "source": [
    "# Python essentials - files and pandas\n",
    "\n",
    "Now that you have reviewed the basic functionality, let's look at how to read/write files, and how to use some of the most common packages (e.g., `pandas`, `matplotlib`, ...).\n",
    "\n",
    "## Reading and writing files\n",
    "\n",
    "Reading and writing files is an important aspect of programming. Let's imagine you have the following list of molecules:\n",
    "\n",
    "```python\n",
    "molecules = ['Amigdalin', 'Fenfuram', 'Estradiol', '2-Methylbutanol']\n",
    "```\n",
    "\n",
    "and you would like to save it in a text file, one name per line. \n",
    "\n",
    "To do so, you could run the following code:\n"
   ]
  },
  {
   "cell_type": "code",
   "execution_count": null,
   "metadata": {},
   "outputs": [],
   "source": [
    "molecules = ['Amigdalin', 'Fenfuram', 'Estradiol', '2-Methylbutanol']\n",
    "\n",
    "with open('molecules.txt', 'w') as file:\n",
    "    file.write('\\n'.join(molecules))"
   ]
  },
  {
   "attachments": {},
   "cell_type": "markdown",
   "metadata": {},
   "source": [
    "Here, `'molecules.txt'` is the name of the file you want to write to. The `'w'` in `'w'` is for writing to the file. If the file does not exist, it will be created. If the file exists, its contents will be overwritten.\n",
    "\n",
    "The `write()` method is used to write to the file. You pass a string to the `write()` method, and it writes that string to the file.\n",
    "\n",
    "The `with` statement is used to make sure that the file is closed properly after you are done writing to it.\n",
    "\n",
    "The string that is written to the file is `'\\n'.join(molecules)`, where `'\\n'` is a line break and the `.join(molecules)` statement joins all the elements in the `molecules` list with `'\\n'`. We can print it below:"
   ]
  },
  {
   "cell_type": "code",
   "execution_count": null,
   "metadata": {},
   "outputs": [],
   "source": [
    "print('\\n'.join(molecules))"
   ]
  },
  {
   "attachments": {},
   "cell_type": "markdown",
   "metadata": {},
   "source": [
    "If we want to read the `molecules.txt` file that we have created and get back the list of molecules. We use a similar synthax."
   ]
  },
  {
   "cell_type": "code",
   "execution_count": null,
   "metadata": {},
   "outputs": [],
   "source": [
    "with open('molecules.txt', 'r') as file:\n",
    "    molecules = [molecule for molecule in file.readlines()]\n",
    "print(molecules)"
   ]
  },
  {
   "attachments": {},
   "cell_type": "markdown",
   "metadata": {},
   "source": [
    "Here, `'molecules.txt'` is the name of the file you want to read. The `r` in `r` is for reading the file (as opposed to writing to it).\n",
    "\n",
    "The `open()` function returns a file object that you can use to read the file. The `readlines()` method is used to read the contents of the file, line by line. The lines are returned as a string.\n",
    "\n",
    "However, as you can see,  it still contains the line break character `\\n` at the end of each line. \n",
    "\n",
    "Hence, we apply the `.strip()` method to remove whitespace in front and at the end of the string.\n"
   ]
  },
  {
   "cell_type": "code",
   "execution_count": null,
   "metadata": {},
   "outputs": [],
   "source": [
    "with open('molecules.txt', 'r') as file:\n",
    "    molecules = [molecule.strip() for molecule in file.readlines()]\n",
    "print(molecules)"
   ]
  },
  {
   "attachments": {},
   "cell_type": "markdown",
   "metadata": {},
   "source": [
    "## Pandas\n",
    "    "
   ]
  },
  {
   "attachments": {},
   "cell_type": "markdown",
   "metadata": {},
   "source": [
    "[Pandas](https://pandas.pydata.org/) is a popular library for data analysis and manipulation in Python. It provides a way to store and manipulate data in a tabular form, similar to a spreadsheet.\n",
    "\n",
    "Here's how to use pandas for reading and writing files:\n",
    "\n",
    "```python\n",
    "import pandas as pd\n",
    "\n",
    "# Reading a CSV file\n",
    "df = pd.read_csv('file.csv')\n",
    "print(df)\n",
    "\n",
    "# Reading an Excel file\n",
    "df = pd.read_excel('file.xlsx')\n",
    "print(df)\n",
    "\n",
    "# Writing a CSV file\n",
    "df.to_csv('file.csv', index=False)\n",
    "\n",
    "# Writing an Excel file\n",
    "df.to_excel('file.xlsx', index=False)\n",
    "```\n",
    "\n",
    "Here, `'file.csv'` and `'file.xlsx'` are the names of the files you want to read or write. You will need to replace them with the actual names of the files you are working with.\n",
    "\n",
    "The `pd.read_csv()` function is used to read a CSV file, and the `pd.read_excel()` function is used to read an Excel file. The functions return a pandas DataFrame (this is what `df` stands for), which is a two-dimensional labeled data structure with columns of potentially different types.\n",
    "\n",
    "The `to_csv()` and `to_excel()` methods are used to write a DataFrame to a CSV file and an Excel file, respectively.\n",
    "\n",
    "The index argument is used to specify whether or not to write the index of the DataFrame to the file. If index is set to False, the index will not be written.\n",
    "\n",
    "Because `pandas` is not a standard Python library, we have to import the module. This the reason for the first line `import pandas as pd`. \n",
    "\n",
    "If you want to go more in-depth, there is also a great [pandas tutorial](https://www.kaggle.com/learn/pandas) on Kaggle Learn."
   ]
  },
  {
   "attachments": {},
   "cell_type": "markdown",
   "metadata": {},
   "source": [
    "## ESOL dataset\n",
    "\n",
    "Let's download a dataset containing molecules. We will use the Estimated SOLubility (ESOL) dataset by [Delaney](https://pubs.acs.org/doi/10.1021/ci034243x), as preprocessed by [DeepChem](https://deepchem.io). \n",
    "\n",
    "The Delaney dataset is a collection of small organic molecules with experimental solubility values in water. It is often used as a benchmark dataset for testing and evaluating the performance of machine learning models in predicting the solubility of molecules. The dataset contains 1,084 molecules and a variety of molecular properties, including the solubility value, molecular weight, and atom-level information such as the number of atoms and types of bonds. We will download a `.csv` file. "
   ]
  },
  {
   "cell_type": "code",
   "execution_count": 2,
   "metadata": {},
   "outputs": [
    {
     "name": "stdout",
     "output_type": "stream",
     "text": [
      "zsh:1: command not found: wget\n"
     ]
    }
   ],
   "source": [
    "!wget \"https://raw.githubusercontent.com/schwallergroup/ai4chem_course/main/notebooks/01%20-%20Basics/data/delaney-processed.csv\" "
   ]
  },
  {
   "attachments": {},
   "cell_type": "markdown",
   "metadata": {},
   "source": [
    "The `delaney-processed.csv` file was successfully downloaded. \n",
    "\n",
    "Here, we used the `wget` command with a `!` in front. In Jupyter notebooks, the `!` symbol is used to run `shell`/`terminal` commands directly from the notebook.\n",
    "\n",
    "You can use it to check the version of Python that you're using:"
   ]
  },
  {
   "cell_type": "code",
   "execution_count": 3,
   "metadata": {},
   "outputs": [
    {
     "name": "stdout",
     "output_type": "stream",
     "text": [
      "Python 3.10.13\n"
     ]
    }
   ],
   "source": [
    "!python --version"
   ]
  },
  {
   "attachments": {},
   "cell_type": "markdown",
   "metadata": {},
   "source": [
    "This feature is useful when you want to run shell commands directly from the notebook, without having to switch to a terminal or command prompt.\n",
    "\n",
    "It's important to note that the ! symbol only works in Jupyter notebooks, and not in regular Python scripts.\n",
    "\n",
    "### Exercise 01b_01\n",
    "\n",
    "To practice this let's use some more useful shell commands. \n",
    "\n",
    "- `ls` -  lists files in folder\n",
    "- `head file` - show the first lines of the file \n",
    "- `mv file target_location` - move file to target location\n",
    "-  `mkdir folder_name` make a new folder\n",
    "\n",
    "So, your use those commands to:\n",
    "1. See if the `delaney-processed.csv` is in the current folder (`ls`)\n",
    "2. Make a new folder called `data` (`mkdir`)\n",
    "3. Move the `delaney-processed.csv` file to the `data` folder (`mv`)\n"
   ]
  },
  {
   "cell_type": "code",
   "execution_count": 4,
   "metadata": {},
   "outputs": [
    {
     "name": "stdout",
     "output_type": "stream",
     "text": [
      "mkdir: data: File exists\n",
      "mv: delaney-processed.csv: No such file or directory\n"
     ]
    }
   ],
   "source": [
    "# write your code here, don't forget the `!` for shell commands\n",
    "\n",
    "!mkdir data\n",
    "!mv delaney-processed.csv data\n",
    "\n",
    "# if you want to see the solution, uncomment the following line\n",
    "# %load https://raw.githubusercontent.com/schwallergroup/ai4chem_course/main/notebooks/solutions/solution_01b_01.txt"
   ]
  },
  {
   "attachments": {},
   "cell_type": "markdown",
   "metadata": {},
   "source": [
    "Once you have correctly moved `delaney-processed.csv` to the `data` folder. You should be able to look at the first lines of the file with the following command."
   ]
  },
  {
   "cell_type": "code",
   "execution_count": 5,
   "metadata": {},
   "outputs": [
    {
     "name": "stdout",
     "output_type": "stream",
     "text": [
      "Compound ID,ESOL predicted log solubility in mols per litre,Minimum Degree,Molecular Weight,Number of H-Bond Donors,Number of Rings,Number of Rotatable Bonds,Polar Surface Area,measured log solubility in mols per litre,smiles\n",
      "Amigdalin,-0.9740000000000001,1,457.4320000000001,7,3,7,202.31999999999996,-0.77,OCC3OC(OCC2OC(OC(C#N)c1ccccc1)C(O)C(O)C2O)C(O)C(O)C3O \n",
      "Fenfuram,-2.885,1,201.22500000000002,1,2,2,42.24,-3.3,Cc1occc1C(=O)Nc2ccccc2\n",
      "citral,-2.5789999999999997,1,152.237,0,0,4,17.07,-2.06,CC(C)=CCCC(C)=CC(=O)\n",
      "Picene,-6.617999999999999,2,278.354,0,5,0,0.0,-7.87,c1ccc2c(c1)ccc3c2ccc4c5ccccc5ccc43\n",
      "Thiophene,-2.2319999999999998,2,84.14299999999999,0,1,0,0.0,-1.33,c1ccsc1\n",
      "benzothiazole,-2.733,2,135.191,0,2,0,12.89,-1.5,c2ccc1scnc1c2 \n",
      "\"2,2,4,6,6'-PCB\",-6.545,1,326.437,0,2,1,0.0,-7.32,Clc1cc(Cl)c(c(Cl)c1)c2c(Cl)cccc2Cl\n",
      "Estradiol,-4.138,1,272.388,2,4,0,40.46,-5.03,CC12CCC3C(CCc4cc(O)ccc34)C2CCC1O\n",
      "Dieldrin,-4.533,1,380.913,0,5,0,12.53,-6.29,ClC4=C(Cl)C5(Cl)C3C1CC(C2OC12)C3C4(Cl)C5(Cl)Cl\n"
     ]
    }
   ],
   "source": [
    "!head data/delaney-processed.csv"
   ]
  },
  {
   "attachments": {},
   "cell_type": "markdown",
   "metadata": {},
   "source": [
    "## Handling the ESOL dataset with pandas\n",
    "\n",
    "### Exercise 01b_02\n",
    "\n",
    "You see above that the `.csv` file contains `comma-separated values`. So, let's use pandas to:\n",
    "\n",
    "1. read the file into a DataFrame (use the`read_csv` function and assign it to the `df` variable)\n",
    "2. show the first 5 rows using `df.head()`"
   ]
  },
  {
   "cell_type": "code",
   "execution_count": 4,
   "metadata": {},
   "outputs": [
    {
     "name": "stdout",
     "output_type": "stream",
     "text": [
      "Requirement already satisfied: pandas in /Users/zlatkojoncev/opt/anaconda3/envs/retrosynthesis/lib/python3.10/site-packages (2.1.0)\n",
      "Requirement already satisfied: numpy>=1.22.4 in /Users/zlatkojoncev/opt/anaconda3/envs/retrosynthesis/lib/python3.10/site-packages (from pandas) (1.25.2)\n",
      "Requirement already satisfied: python-dateutil>=2.8.2 in /Users/zlatkojoncev/opt/anaconda3/envs/retrosynthesis/lib/python3.10/site-packages (from pandas) (2.8.2)\n",
      "Requirement already satisfied: pytz>=2020.1 in /Users/zlatkojoncev/opt/anaconda3/envs/retrosynthesis/lib/python3.10/site-packages (from pandas) (2023.3.post1)\n",
      "Requirement already satisfied: tzdata>=2022.1 in /Users/zlatkojoncev/opt/anaconda3/envs/retrosynthesis/lib/python3.10/site-packages (from pandas) (2023.3)\n",
      "Requirement already satisfied: six>=1.5 in /Users/zlatkojoncev/opt/anaconda3/envs/retrosynthesis/lib/python3.10/site-packages (from python-dateutil>=2.8.2->pandas) (1.16.0)\n"
     ]
    }
   ],
   "source": [
    "# Let's assume, we have not yet imported pandas\n",
    "# Start by importing the pandas module\n",
    "!pip install pandas\n",
    "import pandas as pd\n",
    "\n",
    "# Read the ESOL dataset into a DataFrame\n",
    "df = pd.read_csv('data/delaney-processed.csv')\n",
    "\n",
    "\n",
    "# Inspect the first 5 rows of the DataFrame\n",
    "head = df.head()\n"
   ]
  },
  {
   "cell_type": "code",
   "execution_count": 5,
   "metadata": {},
   "outputs": [
    {
     "name": "stdout",
     "output_type": "stream",
     "text": [
      "  Compound ID  ESOL predicted log solubility in mols per litre  \\\n",
      "0   Amigdalin                                           -0.974   \n",
      "1    Fenfuram                                           -2.885   \n",
      "2      citral                                           -2.579   \n",
      "3      Picene                                           -6.618   \n",
      "4   Thiophene                                           -2.232   \n",
      "\n",
      "   Minimum Degree  Molecular Weight  Number of H-Bond Donors  Number of Rings  \\\n",
      "0               1           457.432                        7                3   \n",
      "1               1           201.225                        1                2   \n",
      "2               1           152.237                        0                0   \n",
      "3               2           278.354                        0                5   \n",
      "4               2            84.143                        0                1   \n",
      "\n",
      "   Number of Rotatable Bonds  Polar Surface Area  \\\n",
      "0                          7              202.32   \n",
      "1                          2               42.24   \n",
      "2                          4               17.07   \n",
      "3                          0                0.00   \n",
      "4                          0                0.00   \n",
      "\n",
      "   measured log solubility in mols per litre  \\\n",
      "0                                      -0.77   \n",
      "1                                      -3.30   \n",
      "2                                      -2.06   \n",
      "3                                      -7.87   \n",
      "4                                      -1.33   \n",
      "\n",
      "                                              smiles  \n",
      "0  OCC3OC(OCC2OC(OC(C#N)c1ccccc1)C(O)C(O)C2O)C(O)...  \n",
      "1                             Cc1occc1C(=O)Nc2ccccc2  \n",
      "2                               CC(C)=CCCC(C)=CC(=O)  \n",
      "3                 c1ccc2c(c1)ccc3c2ccc4c5ccccc5ccc43  \n",
      "4                                            c1ccsc1  \n"
     ]
    }
   ],
   "source": [
    "print(head)"
   ]
  },
  {
   "cell_type": "code",
   "execution_count": 18,
   "metadata": {},
   "outputs": [],
   "source": [
    "# For the solution, uncomment the following line:\n",
    "#%load https://raw.githubusercontent.com/schwallergroup/ai4chem_course/main/notebooks/solutions/solution_01b_02.py"
   ]
  },
  {
   "cell_type": "code",
   "execution_count": 6,
   "metadata": {},
   "outputs": [
    {
     "name": "stdout",
     "output_type": "stream",
     "text": [
      "Requirement already satisfied: google in /Users/zlatkojoncev/opt/anaconda3/envs/retrosynthesis/lib/python3.10/site-packages (3.0.0)\n",
      "Requirement already satisfied: beautifulsoup4 in /Users/zlatkojoncev/opt/anaconda3/envs/retrosynthesis/lib/python3.10/site-packages (from google) (4.12.2)\n",
      "Requirement already satisfied: soupsieve>1.2 in /Users/zlatkojoncev/opt/anaconda3/envs/retrosynthesis/lib/python3.10/site-packages (from beautifulsoup4->google) (2.5)\n"
     ]
    },
    {
     "data": {
      "text/html": [
       "<div>\n",
       "<style scoped>\n",
       "    .dataframe tbody tr th:only-of-type {\n",
       "        vertical-align: middle;\n",
       "    }\n",
       "\n",
       "    .dataframe tbody tr th {\n",
       "        vertical-align: top;\n",
       "    }\n",
       "\n",
       "    .dataframe thead th {\n",
       "        text-align: right;\n",
       "    }\n",
       "</style>\n",
       "<table border=\"1\" class=\"dataframe\">\n",
       "  <thead>\n",
       "    <tr style=\"text-align: right;\">\n",
       "      <th></th>\n",
       "      <th>Compound ID</th>\n",
       "      <th>ESOL predicted log solubility in mols per litre</th>\n",
       "      <th>Minimum Degree</th>\n",
       "      <th>Molecular Weight</th>\n",
       "      <th>Number of H-Bond Donors</th>\n",
       "      <th>Number of Rings</th>\n",
       "      <th>Number of Rotatable Bonds</th>\n",
       "      <th>Polar Surface Area</th>\n",
       "      <th>measured log solubility in mols per litre</th>\n",
       "      <th>smiles</th>\n",
       "    </tr>\n",
       "  </thead>\n",
       "  <tbody>\n",
       "    <tr>\n",
       "      <th>0</th>\n",
       "      <td>Amigdalin</td>\n",
       "      <td>-0.974</td>\n",
       "      <td>1</td>\n",
       "      <td>457.432</td>\n",
       "      <td>7</td>\n",
       "      <td>3</td>\n",
       "      <td>7</td>\n",
       "      <td>202.32</td>\n",
       "      <td>-0.770</td>\n",
       "      <td>OCC3OC(OCC2OC(OC(C#N)c1ccccc1)C(O)C(O)C2O)C(O)...</td>\n",
       "    </tr>\n",
       "    <tr>\n",
       "      <th>1</th>\n",
       "      <td>Fenfuram</td>\n",
       "      <td>-2.885</td>\n",
       "      <td>1</td>\n",
       "      <td>201.225</td>\n",
       "      <td>1</td>\n",
       "      <td>2</td>\n",
       "      <td>2</td>\n",
       "      <td>42.24</td>\n",
       "      <td>-3.300</td>\n",
       "      <td>Cc1occc1C(=O)Nc2ccccc2</td>\n",
       "    </tr>\n",
       "    <tr>\n",
       "      <th>2</th>\n",
       "      <td>citral</td>\n",
       "      <td>-2.579</td>\n",
       "      <td>1</td>\n",
       "      <td>152.237</td>\n",
       "      <td>0</td>\n",
       "      <td>0</td>\n",
       "      <td>4</td>\n",
       "      <td>17.07</td>\n",
       "      <td>-2.060</td>\n",
       "      <td>CC(C)=CCCC(C)=CC(=O)</td>\n",
       "    </tr>\n",
       "    <tr>\n",
       "      <th>3</th>\n",
       "      <td>Picene</td>\n",
       "      <td>-6.618</td>\n",
       "      <td>2</td>\n",
       "      <td>278.354</td>\n",
       "      <td>0</td>\n",
       "      <td>5</td>\n",
       "      <td>0</td>\n",
       "      <td>0.00</td>\n",
       "      <td>-7.870</td>\n",
       "      <td>c1ccc2c(c1)ccc3c2ccc4c5ccccc5ccc43</td>\n",
       "    </tr>\n",
       "    <tr>\n",
       "      <th>4</th>\n",
       "      <td>Thiophene</td>\n",
       "      <td>-2.232</td>\n",
       "      <td>2</td>\n",
       "      <td>84.143</td>\n",
       "      <td>0</td>\n",
       "      <td>1</td>\n",
       "      <td>0</td>\n",
       "      <td>0.00</td>\n",
       "      <td>-1.330</td>\n",
       "      <td>c1ccsc1</td>\n",
       "    </tr>\n",
       "    <tr>\n",
       "      <th>...</th>\n",
       "      <td>...</td>\n",
       "      <td>...</td>\n",
       "      <td>...</td>\n",
       "      <td>...</td>\n",
       "      <td>...</td>\n",
       "      <td>...</td>\n",
       "      <td>...</td>\n",
       "      <td>...</td>\n",
       "      <td>...</td>\n",
       "      <td>...</td>\n",
       "    </tr>\n",
       "    <tr>\n",
       "      <th>1123</th>\n",
       "      <td>halothane</td>\n",
       "      <td>-2.608</td>\n",
       "      <td>1</td>\n",
       "      <td>197.381</td>\n",
       "      <td>0</td>\n",
       "      <td>0</td>\n",
       "      <td>0</td>\n",
       "      <td>0.00</td>\n",
       "      <td>-1.710</td>\n",
       "      <td>FC(F)(F)C(Cl)Br</td>\n",
       "    </tr>\n",
       "    <tr>\n",
       "      <th>1124</th>\n",
       "      <td>Oxamyl</td>\n",
       "      <td>-0.908</td>\n",
       "      <td>1</td>\n",
       "      <td>219.266</td>\n",
       "      <td>1</td>\n",
       "      <td>0</td>\n",
       "      <td>1</td>\n",
       "      <td>71.00</td>\n",
       "      <td>0.106</td>\n",
       "      <td>CNC(=O)ON=C(SC)C(=O)N(C)C</td>\n",
       "    </tr>\n",
       "    <tr>\n",
       "      <th>1125</th>\n",
       "      <td>Thiometon</td>\n",
       "      <td>-3.323</td>\n",
       "      <td>1</td>\n",
       "      <td>246.359</td>\n",
       "      <td>0</td>\n",
       "      <td>0</td>\n",
       "      <td>7</td>\n",
       "      <td>18.46</td>\n",
       "      <td>-3.091</td>\n",
       "      <td>CCSCCSP(=S)(OC)OC</td>\n",
       "    </tr>\n",
       "    <tr>\n",
       "      <th>1126</th>\n",
       "      <td>2-Methylbutane</td>\n",
       "      <td>-2.245</td>\n",
       "      <td>1</td>\n",
       "      <td>72.151</td>\n",
       "      <td>0</td>\n",
       "      <td>0</td>\n",
       "      <td>1</td>\n",
       "      <td>0.00</td>\n",
       "      <td>-3.180</td>\n",
       "      <td>CCC(C)C</td>\n",
       "    </tr>\n",
       "    <tr>\n",
       "      <th>1127</th>\n",
       "      <td>Stirofos</td>\n",
       "      <td>-4.320</td>\n",
       "      <td>1</td>\n",
       "      <td>365.964</td>\n",
       "      <td>0</td>\n",
       "      <td>1</td>\n",
       "      <td>5</td>\n",
       "      <td>44.76</td>\n",
       "      <td>-4.522</td>\n",
       "      <td>COP(=O)(OC)OC(=CCl)c1cc(Cl)c(Cl)cc1Cl</td>\n",
       "    </tr>\n",
       "  </tbody>\n",
       "</table>\n",
       "<p>1128 rows × 10 columns</p>\n",
       "</div>"
      ],
      "text/plain": [
       "         Compound ID  ESOL predicted log solubility in mols per litre  \\\n",
       "0          Amigdalin                                           -0.974   \n",
       "1           Fenfuram                                           -2.885   \n",
       "2             citral                                           -2.579   \n",
       "3             Picene                                           -6.618   \n",
       "4          Thiophene                                           -2.232   \n",
       "...              ...                                              ...   \n",
       "1123       halothane                                           -2.608   \n",
       "1124          Oxamyl                                           -0.908   \n",
       "1125       Thiometon                                           -3.323   \n",
       "1126  2-Methylbutane                                           -2.245   \n",
       "1127        Stirofos                                           -4.320   \n",
       "\n",
       "      Minimum Degree  Molecular Weight  Number of H-Bond Donors  \\\n",
       "0                  1           457.432                        7   \n",
       "1                  1           201.225                        1   \n",
       "2                  1           152.237                        0   \n",
       "3                  2           278.354                        0   \n",
       "4                  2            84.143                        0   \n",
       "...              ...               ...                      ...   \n",
       "1123               1           197.381                        0   \n",
       "1124               1           219.266                        1   \n",
       "1125               1           246.359                        0   \n",
       "1126               1            72.151                        0   \n",
       "1127               1           365.964                        0   \n",
       "\n",
       "      Number of Rings  Number of Rotatable Bonds  Polar Surface Area  \\\n",
       "0                   3                          7              202.32   \n",
       "1                   2                          2               42.24   \n",
       "2                   0                          4               17.07   \n",
       "3                   5                          0                0.00   \n",
       "4                   1                          0                0.00   \n",
       "...               ...                        ...                 ...   \n",
       "1123                0                          0                0.00   \n",
       "1124                0                          1               71.00   \n",
       "1125                0                          7               18.46   \n",
       "1126                0                          1                0.00   \n",
       "1127                1                          5               44.76   \n",
       "\n",
       "      measured log solubility in mols per litre  \\\n",
       "0                                        -0.770   \n",
       "1                                        -3.300   \n",
       "2                                        -2.060   \n",
       "3                                        -7.870   \n",
       "4                                        -1.330   \n",
       "...                                         ...   \n",
       "1123                                     -1.710   \n",
       "1124                                      0.106   \n",
       "1125                                     -3.091   \n",
       "1126                                     -3.180   \n",
       "1127                                     -4.522   \n",
       "\n",
       "                                                 smiles  \n",
       "0     OCC3OC(OCC2OC(OC(C#N)c1ccccc1)C(O)C(O)C2O)C(O)...  \n",
       "1                                Cc1occc1C(=O)Nc2ccccc2  \n",
       "2                                  CC(C)=CCCC(C)=CC(=O)  \n",
       "3                    c1ccc2c(c1)ccc3c2ccc4c5ccccc5ccc43  \n",
       "4                                               c1ccsc1  \n",
       "...                                                 ...  \n",
       "1123                                   FC(F)(F)C(Cl)Br   \n",
       "1124                          CNC(=O)ON=C(SC)C(=O)N(C)C  \n",
       "1125                                  CCSCCSP(=S)(OC)OC  \n",
       "1126                                            CCC(C)C  \n",
       "1127              COP(=O)(OC)OC(=CCl)c1cc(Cl)c(Cl)cc1Cl  \n",
       "\n",
       "[1128 rows x 10 columns]"
      ]
     },
     "execution_count": 6,
     "metadata": {},
     "output_type": "execute_result"
    }
   ],
   "source": [
    "#On Google Colab you can run this command to make the dataframe interactive.\n",
    "!pip install google\n",
    "#load_ext google.colab.data_table\n",
    "# %%\n",
    "df"
   ]
  },
  {
   "attachments": {},
   "cell_type": "markdown",
   "metadata": {},
   "source": [
    "### Exercise 01b_03\n",
    "\n",
    "Let's focus on a single colum for the moment. \n",
    "\n",
    "You can access a specific column of the DataFrame by using square bracket notation and the name of the column, such as `df[\"measured log solubility in mols per litre\"]`.\n",
    "\n",
    "You can also perform operations on a specific column of the DataFrame, such as calculating the mean value, by using methods such as `mean()`.\n",
    "\n",
    "Try this in the code cell below, and save the mean solubility in the variable `mean_solubility`.\n"
   ]
  },
  {
   "cell_type": "code",
   "execution_count": 7,
   "metadata": {},
   "outputs": [
    {
     "name": "stdout",
     "output_type": "stream",
     "text": [
      "-3.05010195035461\n"
     ]
    }
   ],
   "source": [
    "# Access a the \"measured log solubility in mols per litre\" column\n",
    "mean_solubiltiy = df['measured log solubility in mols per litre'].mean()\n",
    "#mean_solubility = solubiltiy.mean()\n",
    "# Calculate mean statistics on that column\n",
    "print(mean_solubiltiy)\n",
    "\n",
    "# For the solution, uncomment the following line:\n",
    "# %load https://raw.githubusercontent.com/schwallergroup/ai4chem_course/main/notebooks/solutions/solution_01b_03.py\n"
   ]
  },
  {
   "attachments": {},
   "cell_type": "markdown",
   "metadata": {},
   "source": [
    "Once you have this you could the following example:\n",
    "\n",
    "```python\n",
    "# Selecting rows based on conditions\n",
    "high_solubility = df[df[\"measured log solubility in mols per litre\"] > mean_solubility]\n",
    "print(high_solubility)\n",
    "\n",
    "# Adding a new column to the DataFrame\n",
    "df[\"Solubility Class\"] = \"Low\"\n",
    "df.loc[df[\"measured log solubility in mols per litre\"] > mean_solubility, \"Solubility Class\"] = \"High\"\n",
    "print(df.head())\n",
    "\n",
    "# Grouping data by a column\n",
    "grouped = df.groupby(\"Solubility Class\")\n",
    "print(grouped.mean())\n",
    "\n",
    "# Sorting the DataFrame\n",
    "df.sort_values(\"measured log solubility in mols per litre\", ascending=False, inplace=True)\n",
    "print(df.head())\n",
    "```\n",
    "\n",
    "In this example, you can see how to select rows based on conditions using boolean indexing, add a new column to the DataFrame, group data by a column, sort the DataFrame, and write the DataFrame to a CSV file.\n",
    "\n",
    "The `df[df[\"measured log solubility in mols per litre\"] > mean_solubility]` line selects rows from the DataFrame where the Solubility column is greater than the mean solubility.\n",
    "\n",
    "The `df[\"Solubility Class\"] = \"Low\"` line adds a new column to the DataFrame, and the `df.loc[df[\"measured log solubility in mols per litre\"] > mean_solubility`, `\"Solubility Class\"] = \"High\"` line sets the values in the new column based on conditions.\n",
    "\n",
    "The `grouped = df.groupby(\"Solubility Class\")` line groups the data by the Solubility Class column, and the `grouped.mean()` line calculates the mean value of each group.\n",
    "\n",
    "The `df.sort_values(\"Solubility\", ascending=False, inplace=True)` line sorts the DataFrame in descending order based on the Solubility column.\n",
    "\n",
    "That's a brief overview of some of the basic operations you can perform on the ESOL dataset using pandas. \n",
    "\n"
   ]
  },
  {
   "attachments": {},
   "cell_type": "markdown",
   "metadata": {},
   "source": [
    "### Additional pandas functionality\n",
    "\n",
    "You can do many more things with pandas as also described in the [documentation](https://pandas.pydata.org/docs/getting_started/intro_tutorials/index.html). Most of the questions that you will have will certainly will already have been answered by someone on [StackOverflow](https://stackoverflow.com/), and you could use tools like [ChatGPT](https://chat.openai.com) as a personal interactive tutor. \n",
    "\n",
    "Here, just some additional examples how you could merge/concatenate DataFrames:\n",
    "\n",
    "```python\n",
    "# Merging DataFrames\n",
    "df1 = df[[\"Compound ID\", \"measured log solubility in mols per litre\"]]\n",
    "df2 = df[[\"Compound ID\", \"SMILES\"]]\n",
    "merged = pd.merge(df1, df2, on=\"Compound ID\")\n",
    "print(merged.head())\n",
    "```\n",
    "\n",
    "```python\n",
    "# Concatenating DataFrames\n",
    "df3 = df[[\"Compound ID\", \"measured log solubility in mols per litre\"]].head(10)\n",
    "df4 = df[[\"Compound ID\", \"SMILES\"]].tail(10)\n",
    "concatenated = pd.concat([df3, df4])\n",
    "print(concatenated)\n",
    "```\n",
    "\n",
    "Or handle missing values in your DataFrame (there are no missing values in the ESOL dataset).\n",
    "\n",
    "```python\n",
    "# Handling missing values\n",
    "df[\"Compound ID\"].fillna(\"\", inplace=True)\n",
    "print(df.head())\n",
    "```\n",
    "\n",
    "\n",
    "\n"
   ]
  }
 ],
 "metadata": {
  "kernelspec": {
   "display_name": "Python 3.9.12 ('base')",
   "language": "python",
   "name": "python3"
  },
  "language_info": {
   "codemirror_mode": {
    "name": "ipython",
    "version": 3
   },
   "file_extension": ".py",
   "mimetype": "text/x-python",
   "name": "python",
   "nbconvert_exporter": "python",
   "pygments_lexer": "ipython3",
   "version": "3.10.13"
  },
  "orig_nbformat": 4,
  "vscode": {
   "interpreter": {
    "hash": "1be16fbddf550357e4e46540ee01bc6d12a48d7bc56fc8427cd30121d5943dc8"
   }
  }
 },
 "nbformat": 4,
 "nbformat_minor": 2
}
